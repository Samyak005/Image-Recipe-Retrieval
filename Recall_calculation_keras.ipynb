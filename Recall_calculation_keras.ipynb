{
 "metadata": {
  "language_info": {
   "codemirror_mode": {
    "name": "ipython",
    "version": 3
   },
   "file_extension": ".py",
   "mimetype": "text/x-python",
   "name": "python",
   "nbconvert_exporter": "python",
   "pygments_lexer": "ipython3",
   "version": 3
  },
  "orig_nbformat": 2,
  "kernelspec": {
   "name": "python_defaultSpec_1595472104116",
   "display_name": "Python 3.8.3 64-bit"
  }
 },
 "nbformat": 4,
 "nbformat_minor": 2,
 "cells": [
  {
   "cell_type": "code",
   "execution_count": 10,
   "metadata": {},
   "outputs": [],
   "source": [
    "from tensorflow import keras\n",
    "# caption_model = keras.models.load_model(\"./results/5000-model.caption\", compile=False)\n",
    "image_model = keras.models.load_model(\"./results/3000-model.image\", compile=False)"
   ]
  },
  {
   "cell_type": "code",
   "execution_count": 11,
   "metadata": {},
   "outputs": [],
   "source": [
    "import numpy as np\n",
    "caption_representations = np.load('./caption_representations/3000.npy')\n",
    "# image_representations = np.load('image-representations.npy')"
   ]
  },
  {
   "cell_type": "code",
   "execution_count": 2,
   "metadata": {},
   "outputs": [],
   "source": [
    "from tensorflow.keras.applications.resnet50 import ResNet50\n",
    "from tensorflow.keras.preprocessing import image\n",
    "from tensorflow.keras.applications.resnet50 import preprocess_input, decode_predictions\n",
    "resnet_model = ResNet50(weights='imagenet', include_top=False)\n",
    "\n",
    "def extract_features(img_path): # though feature vector for training images has been precalculated and present in a file still function is needed for unseen images\n",
    "  img = image.load_img(img_path, target_size=(224, 224))\n",
    "  x = image.img_to_array(img)\n",
    "  x = np.expand_dims(x, axis=0)\n",
    "  x = preprocess_input(x)\n",
    "  features = resnet_model.predict(x)\n",
    "  return np.expand_dims(features.flatten(), axis=0)"
   ]
  },
  {
   "cell_type": "code",
   "execution_count": 3,
   "metadata": {},
   "outputs": [],
   "source": [
    "texts = []\n",
    "with open('./test_labels/test_label_999.txt') as fp:\n",
    "    for line in fp:\n",
    "        tokens = line.strip().split()\n",
    "        texts.append(' '.join(tokens[1:]))"
   ]
  },
  {
   "cell_type": "code",
   "execution_count": 12,
   "metadata": {},
   "outputs": [],
   "source": [
    "l = open('recall_measure.txt', 'w')"
   ]
  },
  {
   "cell_type": "code",
   "execution_count": 13,
   "metadata": {},
   "outputs": [],
   "source": [
    "def generate_caption(image_filename, img_caption, n=10):\n",
    "  # generate image representation for new image\n",
    "  image_representation = image_model.predict(extract_features(image_filename))\n",
    "  # compute score of all captions in the dataset\n",
    "  scores = np.dot(caption_representations, image_representation.T).flatten()\n",
    "  # compute indices of n best captions\n",
    "  indices = np.argpartition(scores, -n)[-n:]\n",
    "  indices = indices[np.argsort(scores[indices])]\n",
    "  # display them\n",
    "  sum = 0\n",
    "  for i in [int(x) for x in reversed(indices)]:\n",
    "    print(scores[i], texts[i])\n",
    "    l.write(texts[i] + '\\n')\n",
    "    if(texts[i] == img_caption):\n",
    "        sum = sum + 1\n",
    "  return sum"
   ]
  },
  {
   "cell_type": "code",
   "execution_count": 14,
   "metadata": {
    "tags": [
     "outputPrepend"
    ]
   },
   "outputs": [
    {
     "output_type": "stream",
     "name": "stdout",
     "text": "epherd Pie\n4.6201572 Vegetarian Shepherds Pie\n4.562152 Mustardy Potato Pierogies\n4.5482244 Baked Meatball Ziti\n4.2985134 Chicken Baked Ricotta Manicotti\n4.212268 Cucumbers in Sour Cream (Low Fat or Non Fat)\n4.1047826 Italian Vegetarian Patties\n4.017642 Good Ole Chicken Creole\n4.0117207 A Nice Slow-Cooked Pork\n4.010575 Turkey Picadillo\n954\nLemon Chickpeas\n5.0624714 Mediterranean Sausage Chili #Ragu\n4.441465 Wild-mushroom and Potato Stew\n4.365615 Sauteed Green Beans\n4.269445 Kalops (Swedish Beef Stew)\n4.2251577 Spanish Caldo Gallego\n4.196766 Hibachi style Japanese rice\n4.1676817 Ultimate Black Bean and Rice Soup\n4.1287093 Vintage Hamburger Goulash\n4.107173 Vietnamese Grilled Pork over Vermicelli Noodles\n4.072852 Puertorican RED Rice & Beans\n955\nHomemade Heart Shaped Cookies\n6.162368 Popover Egg Pies\n6.1085825 Crusty Yummy Biscuits\n6.0839763 Sticky Gingerbread\n6.066633 Steamed Pork Buns\n6.0254173 Guyanese Coconut Buns\n6.004732 White Butter Cake layered with Raspberry Cream with a White Chocolate Frosting\n5.996394 Gluten Free Klaicha - Date Filled Cookies\n5.964162 Deceptively Delicious Vegan Chocolate Cookies\n5.945633 Salted Caramel Thumbprint Cookies\n5.910351 Shortbread\n956\nSummertime Melon Salad\n4.671617 King of Kingston Cocktail\n4.469194 Colorful Ozoni Mochi Soup for the New Year\n4.4066567 Momma's never get sick again tea\n4.188554 Ants Climbing a Tree\n4.1201315 Hard Rock Candy, Alcoholic Beverage\n4.096715 Ginger Julep\n4.042189 Hole in the Wall\n3.9805448 Strawberry Bomb (Cocktail Drink)\n3.9484873 Olive Bagna Cauda\n3.9123678 Classic Bellini Cocktail\n957\nWild Salmon With Green Sauce\n6.1418505 Colorful Ozoni Mochi Soup for the New Year\n5.8172407 Kalops (Swedish Beef Stew)\n5.692035 Wonton Soup With A Kick\n5.690976 Spring Ham Steaks with Sweet Pea-Leek Pan Sauce\n5.663065 Chicken in a Metaxa Cream Sauce\n5.593955 Leek & Shiso Pork Wraps with Soy Sauce and Butter\n5.574875 Enchilada Sauce\n5.5733004 Spanish Omelet Recipe I Learned From a Spaniard\n5.562953 Crockpot Braised Country Style Pork Ribs in Tomato & Red Wine Sauce\n5.5611796 Spicy Jumbo Burger Ole\n958\nFarmhouse Recipe: Spinach en Cocotte\n5.6781635 Pho Ga: Vietnamese Chicken Noodle Soup\n5.447008 Cabbage, Tomato and Vegetable Soup\n5.424092 Black Bean Chilaquiles with Arugula Salad\n5.4140763 Cioppino (Seafood Stew)\n5.402382 Crab and Heirloom Tomato Salad\n5.370399 Mediterranean Sausage Chili #Ragu\n5.3364124 Honeydew and Lime Soup\n5.328459 Potato-Leek Soup\n5.316932 Kathy's Ham and Bean Soup\n5.292634 Four Alarm Chili\n959\nPork Roasted the Way Tuscans Do\n5.303295 Spicy Jumbo Burger Ole\n5.2747054 My Husband Calls This BBQ (Sloppy Joes)\n5.274516 Cheesy Open-Face Sandwich\n5.103054 Deceptively Delicious Vegan Chocolate Cookies\n5.0232334 Crusty Yummy Biscuits\n5.0152187 Blueberry Pear Cobbler\n5.0117917 Grandma's M&ms Cookies\n4.976107 A Very Boozy Hot Chocolate\n4.951478 Classic BisquickTM Peach Cobbler\n4.937257 Salted Caramel Thumbprint Cookies\n960\nPasta Deli Salad\n4.4230595 Vietnamese Grilled Pork over Vermicelli Noodles\n4.289864 Cheesy Chicken Spaghetti\n4.2370687 Hibachi style Japanese rice\n4.1917233 Homestyle Chicken Spaghetti\n4.0905676 Pasta With Garlic and Oil (Pasta Aglio E Olio)\n3.9323719 Sesame Udon Noodles\n3.9042244 Vickys Chicken & Squash with Cous Cous\n3.8489647 red ground beef and rice\n3.8340304 chicken and rice casserole\n3.7531025 Chicken and Green Bean Casserole\n961\nSpaghetti Puttanesca\n2.770447 Classic Bangers and Mash\n2.7320747 Colorful Ozoni Mochi Soup for the New Year\n2.6967103 Nigellas Curry in a Hurry\n2.6090336 EZ Snickerdoodles\n2.5847764 Hole in the Wall\n2.5457265 Claires Chicken Tikka Masala\n2.539465 Indian Lassi\n2.518166 Olive Bagna Cauda\n2.5058036 Spanish Omelet Recipe I Learned From a Spaniard\n2.4742289 Turkey a la Oscar\n962\nMushroom Veal Cutlets With Tomatoes\n6.122695 Italian Vegetarian Patties\n6.098283 Italian Meatloaf\n5.873499 Mustardy Potato Pierogies\n5.8693867 Baked Meatball Ziti\n5.6753044 Mexican-Glazed Meatloaves\n5.5781317 Easy Onion Meatloaf\n5.562144 A Nice Slow-Cooked Pork\n5.522204 Cheesy Open-Face Sandwich\n5.462762 Spicy Lamb Patties\n5.4615536 Steamed Pork Buns\n963\nCherry Vanilla Breakfast Cake\n5.8285933 Colorful Ozoni Mochi Soup for the New Year\n5.579896 Chicken Baked Ricotta Manicotti\n5.5567913 Buckeye Cheese Ball\n5.5153975 THE Cheese Ball\n5.395256 Cheesy Football\n5.387538 Claires Chicken Tikka Masala\n5.359373 American Flag Cake\n5.312627 Baked Meatball Ziti\n5.3091173 Leek & Shiso Pork Wraps with Soy Sauce and Butter\n5.2781057 Spring Ham Steaks with Sweet Pea-Leek Pan Sauce\n964\nEasy Appetizer Bites\n5.9048414 Salted Caramel Thumbprint Cookies\n5.582717 Candy Cane Biscotti\n5.5190845 Deceptively Delicious Vegan Chocolate Cookies\n5.2721233 Crusty Yummy Biscuits\n5.266516 Sunshine Pineapple Cookies\n5.237896 Dulce de Leche Smores Bark\n5.213539 Buttermilk Cranberry Scones\n5.213025 Ladybirds Fried Egg Biscuits/Cookies\n5.126766 Brown Sugar Shortbread Cookies\n5.113611 Almond Joy Cookies\n965\nMashed Roasted Sweet Potatoes With Parmesan\n4.3803973 Flora's Low Carb/Low Fat Shepherd Pie\n4.234085 Cucumbers in Sour Cream (Low Fat or Non Fat)\n4.1666923 Hole in the Wall\n4.13927 Colorful Ozoni Mochi Soup for the New Year\n3.8914008 Wonton Soup With A Kick\n3.8578742 Corn Dodgers\n3.8363192 Martha Stewart's Oatmeal Cookies of the Year\n3.8126268 Stew With Cranberries (Swedish Kalops)\n3.7867362 Vegetarian Shepherds Pie\n3.693839 Five Spice Powder\n966\nShrimp Kebabs\n5.1418905 Homestyle Chicken Spaghetti\n5.0914726 Baked Meatball Ziti\n5.02253 Cheesy Chicken Spaghetti\n4.8712807 Claires Chicken Tikka Masala\n4.8306484 A Nice Slow-Cooked Pork\n4.8237596 Deep Browned Potatoes\n4.7602286 Italian Vegetarian Patties\n4.738759 Bacalhau a Bras (Salt Cod, Eggs and Potatoes)\n4.7369785 Turkey Chilaquiles\n4.7049446 Stuffed Potatoes\n967\nChicken Baked Ricotta Manicotti\n4.578158 Grandma's M&ms Cookies\n4.5179415 Crusty Yummy Biscuits\n4.361726 My Husband Calls This BBQ (Sloppy Joes)\n4.313003 Cheese and Salami Loaf\n4.30945 Vegetarian Shepherds Pie\n4.2862997 Flora's Low Carb/Low Fat Shepherd Pie\n4.23931 Mexican-Glazed Meatloaves\n4.200075 Gluten Free Klaicha - Date Filled Cookies\n4.181651 Bachelor Button Cookies\n4.1814384 Italian Meatloaf\n968\nTilapia With Flavor\n4.015324 Crusty Yummy Biscuits\n3.6797037 My Husband Calls This BBQ (Sloppy Joes)\n3.665744 Cheese and Salami Loaf\n3.5034165 Good Morning Muffins\n3.4707198 Cheesy Open-Face Sandwich\n3.4656403 New York Deli-Style Bagels\n3.440804 Grandma's M&ms Cookies\n3.4320014 Mexican-Glazed Meatloaves\n3.4162366 Spicy Jumbo Burger Ole\n3.3758554 Aunt Flo's Waffles\n969\nLime Daiquiri Dessert\n5.1917067 White Butter Cake layered with Raspberry Cream with a White Chocolate Frosting\n5.133585 Plum and Cherry Hazelnut Tart\n5.0147743 A Very Boozy Hot Chocolate\n5.013832 Blueberry Pear Cobbler\n4.9991426 Classic BisquickTM Peach Cobbler\n4.970814 Raspberry-Tres Leches Cake\n4.952279 Strawberry Luscious\n4.7105384 Red Velvet Brownies with White Chocolate Buttercream\n4.6733713 \"Never Weep\" Whipped Cream\n4.6658177 Crusty Yummy Biscuits\n970\nGrilled Salmon With Cucumber Salad\n4.183563 Grandma's M&ms Cookies\n4.158037 Bachelor Button Cookies\n4.050658 EZ Snickerdoodles\n3.8647761 Toll House Cookies\n3.800252 Gluten Free Klaicha - Date Filled Cookies\n3.6850457 A Very Boozy Hot Chocolate\n3.6509876 Homemade Heart Shaped Cookies\n3.6159992 Focaccia in a Bread Maker\n3.5444508 High Protein Pancakes for One\n3.5311253 Almond Joy Cookies\n971\nButternut Squash Soup With Herbes De Provence\n4.304771 Hibachi style Japanese rice\n4.2439957 Colorful Ozoni Mochi Soup for the New Year\n4.2147365 Caramelized Turnips , Carrots and Parsnips\n4.1855063 Homestyle Chicken Spaghetti\n4.165309 Hayashi Rice\n4.1635656 Corn Dodgers\n4.1606255 Claires Chicken Tikka Masala\n4.1160145 Vietnamese Grilled Pork over Vermicelli Noodles\n4.0618863 Chicken Baked Ricotta Manicotti\n4.0082426 red ground beef and rice\n972\nEasy Broccoli-Cranberry Holiday Slaw\n3.1522427 Caramelized Turnips , Carrots and Parsnips\n2.9680974 Hibachi style Japanese rice\n2.8988655 Colorful Ozoni Mochi Soup for the New Year\n2.7233524 Hayashi Rice\n2.694381 Vietnamese Grilled Pork over Vermicelli Noodles\n2.6936452 red ground beef and rice\n2.6853914 Turkey Leg Pot Roast (For Slow-Cooker)\n2.6819034 Corn Dodgers\n2.65806 Aegean Lamb with Orzo\n2.6016052 Cucumbers in Sour Cream (Low Fat or Non Fat)\n973\nArroz Huerfano (Orphans Rice)\n6.1806874 Baked Meatball Ziti\n6.077248 Cheesy Chicken Spaghetti\n5.9520864 Claires Chicken Tikka Masala\n5.934997 Homestyle Chicken Spaghetti\n5.6764836 Bacalhau a Bras (Salt Cod, Eggs and Potatoes)\n5.578601 Bovril Oven Roasted Potatoes\n5.575081 Stuffed Potatoes\n5.5730486 Hidden Veggie Tortellini Bake\n5.564125 Potato Leek Gratin\n5.550713 Turkey Chilaquiles\n974\nFlora's Low Carb/Low Fat Shepherd Pie\n4.3803973 Flora's Low Carb/Low Fat Shepherd Pie\n4.234085 Cucumbers in Sour Cream (Low Fat or Non Fat)\n4.1666923 Hole in the Wall\n4.13927 Colorful Ozoni Mochi Soup for the New Year\n3.8914008 Wonton Soup With A Kick\n3.8578742 Corn Dodgers\n3.8363192 Martha Stewart's Oatmeal Cookies of the Year\n3.8126268 Stew With Cranberries (Swedish Kalops)\n3.7867362 Vegetarian Shepherds Pie\n3.693839 Five Spice Powder\n975\nSicilian Tuna Steaks in Onion Sauce\n4.6470294 Cucumbers in Sour Cream (Low Fat or Non Fat)\n4.3047786 Flora's Low Carb/Low Fat Shepherd Pie\n4.2484365 Italian Meatloaf\n4.1035466 Stew With Cranberries (Swedish Kalops)\n4.0319514 Good Ole Chicken Creole\n4.01112 Chicken 'n Dumplings - old style\n3.928586 Homestyle Chicken Spaghetti\n3.9007256 Vegetarian Shepherds Pie\n3.8909087 Great-Grandmother Steinbeck's Johnnycake (Cornbread)\n3.8609276 Bachelor Button Cookies\n976\nSummertime Asparagus Rice Salad\n7.718384 Vietnamese Grilled Pork over Vermicelli Noodles\n7.5977864 Cheesy Chicken Spaghetti\n7.586871 Homestyle Chicken Spaghetti\n7.161109 Sesame Udon Noodles\n7.145782 Hibachi style Japanese rice\n6.979158 Linguini with Wild Mushrooms Sauce\n6.934986 NO YOLKS One Pot Cheesy Taco Noodles\n6.922799 Pasta With Garlic and Oil (Pasta Aglio E Olio)\n6.9052944 chicken and rice casserole\n6.8987107 Slow Cooker Country Style Garlic Mashed Potatoes\n977\nKathy's Ham and Bean Soup\n6.3176904 Mediterranean Sausage Chili #Ragu\n5.9550147 Vickys Chicken & Squash with Cous Cous\n5.9102736 Aegean Lamb with Orzo\n5.8384914 Pho Ga: Vietnamese Chicken Noodle Soup\n5.7593536 Wild-mushroom and Potato Stew\n5.757245 Cioppino (Seafood Stew)\n5.7139955 Lemon Chickpeas\n5.6915007 Potato-Leek Soup\n5.6812162 Kalops (Swedish Beef Stew)\n5.580063 Corn Chowder\n978\nRevelatory Caramel Cake\n6.3933873 Raspberry-Tres Leches Cake\n6.2301245 Raspberry Pretzel Dessert\n6.0045767 sig's Neapolitan Marbled Cake\n5.977407 Red Velvet Brownies with White Chocolate Buttercream\n5.956728 Chocolate Mousse Pie\n5.943244 The Ultimate Chocolate Cake\n5.915951 Boca Negra (Bourbon Chocolate Cake)\n5.9056654 White Butter Cake layered with Raspberry Cream with a White Chocolate Frosting\n5.813645 Chocolate S'mores Cake\n5.8106375 Marinated Filet Mignon With Flavored Butter\n979\n123 Green Tea Ice Cream\n4.5587506 Flora's Low Carb/Low Fat Shepherd Pie\n4.3288136 Bachelor Button Cookies\n4.3234367 Cucumbers in Sour Cream (Low Fat or Non Fat)\n4.2250347 Grandma's M&ms Cookies\n4.1751313 English Muffins\n4.153019 Stew With Cranberries (Swedish Kalops)\n4.1411223 Jagerschnitzel With Bacon Mushroom Gravy\n4.13494 Crusty Yummy Biscuits\n4.1221905 Sticky Gingerbread\n4.097912 Great-Grandmother Steinbeck's Johnnycake (Cornbread)\n980\nEasy Burgers With Rice & Gravy\n4.6470294 Cucumbers in Sour Cream (Low Fat or Non Fat)\n4.3047786 Flora's Low Carb/Low Fat Shepherd Pie\n4.2484365 Italian Meatloaf\n4.1035466 Stew With Cranberries (Swedish Kalops)\n4.0319514 Good Ole Chicken Creole\n4.01112 Chicken 'n Dumplings - old style\n3.928586 Homestyle Chicken Spaghetti\n3.9007256 Vegetarian Shepherds Pie\n3.8909087 Great-Grandmother Steinbeck's Johnnycake (Cornbread)\n3.8609276 Bachelor Button Cookies\n981\nItty Bitty Nutella Cakes\n5.9795413 Red Velvet Brownies with White Chocolate Buttercream\n5.8685484 Raspberry-Tres Leches Cake\n5.7881966 Raspberry Pretzel Dessert\n5.7247796 Raspberry Cheesecake Chocolate Cupcakes\n5.7170196 A Very Boozy Hot Chocolate\n5.56075 White Butter Cake layered with Raspberry Cream with a White Chocolate Frosting\n5.3811655 Strawberry Jelly\n5.375916 Lime Daiquiri Dessert\n5.3653183 Chocolate Mint Cheesecake\n5.280074 The Ultimate Chocolate Cake\n982\nCaponata with Kalamata Olives and Asiago Cheese\n5.538725 Pate a Choux Shells (French Pastry Shells) Recipe\n5.4384575 Kittencal's Fluffiest Scrambled Eggs\n5.4020276 Berry Clafoutis\n5.3599157 Heavenly Scrambled Eggs\n5.3183866 Oven Baked Eggs\n5.289284 Kims Kickin Deviled Eggs\n5.277298 Sticky Gingerbread\n5.252283 Popover Egg Pies\n5.2504554 Marinated Filet Mignon With Flavored Butter\n5.1283455 Buckeye Cheese Ball\n983\nB.L.T Pinwheels\n4.99165 Homemade Mozzarella Sticks\n4.9258795 Midwestern Barbecued Flank Steak\n4.8760667 Cheddar and Hatch Chile Stuffed Chicken Breasts\n4.8046613 Grilled Taco Burgers\n4.7409477 Mesquite Marinated Flank Steak\n4.694808 Greek Stuffed Chicken Breasts\n4.6877813 Stacked Sweet Potatoes\n4.67928 Porterhouse Steaks\n4.6334553 Easy Chicken Quesadillas\n4.6037827 Heavenly Scrambled Eggs\n984\nWw Caprese Rice Salad\n4.8160048 Caramelized Turnips , Carrots and Parsnips\n4.5277576 Vietnamese Grilled Pork over Vermicelli Noodles\n4.5026884 Hibachi style Japanese rice\n4.386823 Vickys Chicken & Squash with Cous Cous\n4.3285837 Pasta With Garlic and Oil (Pasta Aglio E Olio)\n4.252678 Aegean Lamb with Orzo\n4.2314706 red ground beef and rice\n4.2064805 Turkey Leg Pot Roast (For Slow-Cooker)\n4.1404552 Homestyle Chicken Spaghetti\n4.075534 Garlic Soup With Potatoes and Cumin\n985\nEat Your Bowl\n5.616632 Tropical Strawberry Smoothie\n5.526463 Yogurt and Honey Panna Cotta\n5.110999 Strawberry Bomb (Cocktail Drink)\n4.974621 Crispy Tofu Tacos with Goat Cheese Lime Cream\n4.902336 Super Quick Exotic Rose Ice Cream\n4.873682 Ginger Julep\n4.8429165 123 Green Tea Ice Cream\n4.75546 Classic Bellini Cocktail\n4.752449 Green Ceviche With Cucumber\n4.707939 Mesquite Chicken Breasts with Lime-Avocado Salsa\n986\nBeer Mac n Cheese\n5.8265643 Mediterranean Sausage Chili #Ragu\n5.5266113 Vietnamese Grilled Pork over Vermicelli Noodles\n5.2731924 Wild-mushroom and Potato Stew\n5.2573633 Sauteed Green Beans\n5.2216425 Hibachi style Japanese rice\n5.1916513 Ultimate Black Bean and Rice Soup\n5.1495476 Sesame Udon Noodles\n5.090044 Pho Ga: Vietnamese Chicken Noodle Soup\n5.0455756 Winter Squash and Sausage Penne\n4.981124 Spinach Minestrone\n987\nFoot Soak\n4.199236 Crusty Yummy Biscuits\n4.0542088 Plum and Cherry Hazelnut Tart\n4.038227 Flora's Low Carb/Low Fat Shepherd Pie\n3.8246934 Grandma's M&ms Cookies\n3.8162847 Blueberry Pear Cobbler\n3.7840264 Almond Joy Cookies\n3.7637298 Cucumbers in Sour Cream (Low Fat or Non Fat)\n3.7354102 Hershey's Low Fat Banana Bread\n3.7152796 Smores Pockets\n3.699776 A Very Boozy Hot Chocolate\n988\nAmerican Flag Cake\n6.134782 Red Velvet Brownies with White Chocolate Buttercream\n5.9878163 Raspberry Pretzel Dessert\n5.9598017 Raspberry-Tres Leches Cake\n5.8562937 Raspberry Cheesecake Chocolate Cupcakes\n5.845842 A Very Boozy Hot Chocolate\n5.7987995 White Butter Cake layered with Raspberry Cream with a White Chocolate Frosting\n5.6035614 Strawberry Jelly\n5.552102 Lime Daiquiri Dessert\n5.5109544 Chocolate Mint Cheesecake\n5.4355493 Luscious Lemon Cheesecake\n989\nBen Pollingers Crab-Stuffed Roasted Lobster\n5.2699885 Turkey Chilaquiles\n5.1050334 Meatball Heroes\n5.044799 Midwestern Barbecued Flank Steak\n5.0176535 Turkey in the Bundt (Leftover Turkey)\n5.00587 Cheesy Football\n4.987307 Spicy Jumbo Burger Ole\n4.9367075 Kalops (Swedish Beef Stew)\n4.9228344 Sweet Thai Turkey Burgers\n4.90057 Easy Chicken Quesadillas\n4.883043 Italian Meatloaf\n990\nEl Presidente Recipe\n5.2431397 Tropical Strawberry Smoothie\n5.155276 Strawberry Bomb (Cocktail Drink)\n4.623272 Yogurt and Honey Panna Cotta\n4.4972754 Ginger Julep\n4.4534006 Classic Bellini Cocktail\n4.4522953 Baked Tomato with Ruby Red Grapefruit\n4.287053 Super Quick Exotic Rose Ice Cream\n4.24754 Sugar Free Sparkling Lemonade\n4.181699 Green Ceviche With Cucumber\n4.1318803 123 Green Tea Ice Cream\n991\nSuper Creamy Spicy Sausage Mac n Cheese\n6.2594213 Black Bean Chilaquiles with Arugula Salad\n5.976181 Grilled Chili-Rubbed Steak Salad with Roasted Shallot Vinaigrette\n5.933536 Tomato, Basil, and Feta Salad\n5.8787594 Vitello alla Parmigiano (Veal Parmesan)\n5.8686304 Mediterranean Stuffed Bell Peppers\n5.8578186 Sweet Italian Chicken Grillers with Fresh Mozzarella\n5.792019 Crab and Heirloom Tomato Salad\n5.7334003 Imam Baildi Aka Stuffed Eggplant (Aubergine)\n5.6901026 Roasted Garlic Parmesan Broccoli\n5.6523504 Asian Chicken with Cabbage Slaw\n992\nHow to Remove the Stalk from Lettuce and Keep it Fresh\n3.2222815 Nigellas Curry in a Hurry\n3.1582432 Sauteed Green Beans\n3.1215603 Mediterranean Sausage Chili #Ragu\n3.1170347 Olive Bagna Cauda\n3.0944138 Ultimate Black Bean and Rice Soup\n3.0880556 Fresh Cream of Asparagus Soup from the Farm\n2.8910134 Pho Ga: Vietnamese Chicken Noodle Soup\n2.8847966 Vegetable Potage\n2.871809 Pasta And Beans\n2.8510127 Wild-mushroom and Potato Stew\n993\nTvp Chili\n5.415954 Mediterranean Sausage Chili #Ragu\n4.6737666 Cioppino (Seafood Stew)\n4.5404563 Kalops (Swedish Beef Stew)\n4.5401487 Wild-mushroom and Potato Stew\n4.3690014 Skillet Chicken & Dumplings\n4.3480597 Spanish Caldo Gallego\n4.340532 Vitello alla Parmigiano (Veal Parmesan)\n4.3296604 Potato Leek Gratin\n4.255477 African Turkey Stew\n4.2151136 Corn Chowder\n994\nOven Baked Onion Rings\n5.396166 American Flag Cake\n5.3637795 Flora's Low Carb/Low Fat Shepherd Pie\n5.238335 Colorful Ozoni Mochi Soup for the New Year\n5.2167797 German Chocolate Pie\n5.204996 Martha Stewart's Oatmeal Cookies of the Year\n5.1997232 The Ultimate Chocolate Cake\n5.1814947 Spicy Jumbo Burger Ole\n5.1096044 EZ Snickerdoodles\n5.044589 Cheesy Football\n5.036443 Buckeye Cheese Ball\n995\nBlueberry Pear Cobbler\n5.9857388 Mediterranean Sausage Chili #Ragu\n5.913904 Cioppino (Seafood Stew)\n5.618391 Grilled Lamb with Curried Vegetables and Grape Pine Nut Gremolata\n5.55321 Black Bean Chilaquiles with Arugula Salad\n5.5487947 Kalops (Swedish Beef Stew)\n5.521482 Crab and Heirloom Tomato Salad\n5.4017963 Pho Ga: Vietnamese Chicken Noodle Soup\n5.377123 Wild-mushroom and Potato Stew\n5.316393 Chicken and Sweet Potato Caribbean Stew\n5.27054 African Turkey Stew\n996\nIncan\n5.1983852 Tropical Strawberry Smoothie\n5.138175 Strawberry Bomb (Cocktail Drink)\n4.9205484 Yogurt and Honey Panna Cotta\n4.9059286 Sugar Free Sparkling Lemonade\n4.8660994 Super Quick Exotic Rose Ice Cream\n4.80293 Splenda Pink Lemonade\n4.6496577 Mango Lassi Ice\n4.6488953 \"Never Weep\" Whipped Cream\n4.621996 123 Green Tea Ice Cream\n4.543083 Mocha Cream\n997\nSaffron Fingerling Potato Salad with Mixed Greens and Tomatoes\n3.323554 Turkey Chilaquiles\n3.292985 Chicken 'n Dumplings - old style\n3.190029 Homestyle Chicken Spaghetti\n3.1634934 Baked Meatball Ziti\n3.1368425 Cheesy Chicken Spaghetti\n3.1059215 Asparagus-Stuffed Chikuwa Fish Paste Sticks\n3.1000793 Crunchy Garden-Style Dogs\n3.0606663 Ange's Awesome Cheeseymite Scrolls\n3.0390675 A Nice Slow-Cooked Pork\n3.008885 Cucumbers in Sour Cream (Low Fat or Non Fat)\n998\nLight Alfredo Sauce\n5.1190214 Homestyle Chicken Spaghetti\n4.922559 Cheesy Chicken Spaghetti\n4.5841303 Hibachi style Japanese rice\n4.3622966 Vietnamese Grilled Pork over Vermicelli Noodles\n4.280217 red ground beef and rice\n4.20403 Hayashi Rice\n4.1949024 Kalops (Swedish Beef Stew)\n4.1922293 Deep Browned Potatoes\n4.185596 Chicken 'n Dumplings - old style\n4.161532 Bacalhau a Bras (Salt Cod, Eggs and Potatoes)\n999\nChunky Potato & Ham Soup\n6.180047 Mediterranean Sausage Chili #Ragu\n5.6388288 Vitello alla Parmigiano (Veal Parmesan)\n5.472416 Vickys Chicken & Squash with Cous Cous\n5.457514 Cioppino (Seafood Stew)\n5.3770013 Imam Baildi Aka Stuffed Eggplant (Aubergine)\n5.3718762 Wild-mushroom and Potato Stew\n5.354194 Winter Squash and Sausage Penne\n5.1383033 Aegean Lamb with Orzo\n5.079242 Black Bean Chilaquiles with Arugula Salad\n5.0781503 Kalops (Swedish Beef Stew)\n1000\n27\n"
    }
   ],
   "source": [
    "k = 10 # Recall@K\n",
    "count = 0\n",
    "num = 1000\n",
    "sum_recall = 0\n",
    "img_path = '../Recipe1M/recipe1M_images_test/test/'\n",
    "with open('./test_labels/test_label_999.txt') as f:\n",
    "    while(True):\n",
    "        if(count >= num):\n",
    "            break\n",
    "        line = f.readline()\n",
    "        img_name = line.split(' ')[0]\n",
    "        # print(img_name)\n",
    "        img_caption = []\n",
    "        tokens = line.strip().split()\n",
    "        img_caption.append(' '.join(tokens[1:]))\n",
    "        img_caption = img_caption[0]\n",
    "        print(img_caption)\n",
    "        l.write(img_caption + '\\n')\n",
    "\n",
    "        img_title = img_name.split('.')[0]\n",
    "        # print(img_title)\n",
    "\n",
    "        img_path_final = img_path\n",
    "        for i in range(4):\n",
    "            img_path_final = img_path_final + img_title[i] + '/'\n",
    "        img_path_final = img_path_final + img_name\n",
    "        sum_recall = sum_recall + generate_caption(img_path_final, img_caption)\n",
    "        # print('cp ' + img_path_final + ' V2-20000')\n",
    "        # os.system('cp ' + img_path_final + ' V2-20000')\n",
    "        count = count + 1\n",
    "        print(count)\n",
    "        l.write(str(count) + '\\n')\n",
    "print(sum_recall)"
   ]
  },
  {
   "cell_type": "code",
   "execution_count": 15,
   "metadata": {},
   "outputs": [],
   "source": [
    "l.close()"
   ]
  },
  {
   "cell_type": "code",
   "execution_count": null,
   "metadata": {},
   "outputs": [],
   "source": []
  }
 ]
}